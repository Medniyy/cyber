{
 "cells": [
  {
   "cell_type": "code",
   "execution_count": 1,
   "metadata": {},
   "outputs": [],
   "source": [
    "import math\n",
    "import collections\n",
    "import functools\n",
    "import operator"
   ]
  },
  {
   "cell_type": "code",
   "execution_count": 2,
   "metadata": {},
   "outputs": [],
   "source": [
    "cyberlinks = [\n",
    "    {(1, 2): 8},\n",
    "    {(1, 15): 6},\n",
    "    {(3, 2): 16},\n",
    "    {(4, 3): 8},\n",
    "    {(5, 4): 4},\n",
    "    {(5, 6): 6},\n",
    "    {(7, 6): 6},\n",
    "    {(8, 7): 4},\n",
    "    {(9, 8): 4},\n",
    "    {(9, 10): 4},\n",
    "    {(10, 11): 4},\n",
    "    {(11, 12): 6},\n",
    "    {(12, 19): 9},\n",
    "    {(13, 12): 6},\n",
    "    {(13, 14): 8},\n",
    "    {(15, 14): 12},\n",
    "    {(15, 2): 12},\n",
    "    {(16, 2): 8},\n",
    "    {(16, 14): 8},\n",
    "    {(17, 3): 8},\n",
    "    {(17, 14): 8},\n",
    "    {(18, 3): 8},\n",
    "    {(18, 19): 6},\n",
    "    {(20, 19): 6},\n",
    "    {(21, 20): 4},\n",
    "    {(21, 6): 6}\n",
    "]"
   ]
  },
  {
   "cell_type": "code",
   "execution_count": 3,
   "metadata": {},
   "outputs": [],
   "source": [
    "def cyber_entropy(cyberlinks: list, damping_factor: float = 0.8):\n",
    "    cyberlinks_dict = dict(functools.reduce(operator.add, map(collections.Counter, cyberlinks)))\n",
    "    objects = list(set([item for t in [list(x.keys())[0] for x in cyberlinks] for item in t]))\n",
    "    swd = [0] * len(objects)\n",
    "    sumswd = [0] * len(objects)\n",
    "    entropy = [0] * len(objects)\n",
    "    for i in range(len(swd)):\n",
    "        income_cyberlinks = [income_cyberlink for income_cyberlink in [list(x.keys())[0] for x in cyberlinks] if income_cyberlink[1] == objects[i]]\n",
    "        outcome_cyberlinks = [outcome_cyberlinks for outcome_cyberlinks in [list(x.keys())[0] for x in cyberlinks] if outcome_cyberlinks[0] == objects[i]]\n",
    "        swd[i] = damping_factor * sum(cyberlinks_dict[income_cyberlink] for income_cyberlink in income_cyberlinks) + \\\n",
    "                 (1 - damping_factor) * sum(cyberlinks_dict[outcome_cyberlink] for outcome_cyberlink in outcome_cyberlinks)\n",
    "    for i in range(len(sumswd)):\n",
    "        income_cyberlinks = [income_cyberlink for income_cyberlink in [list(x.keys())[0] for x in cyberlinks] if income_cyberlink[1] == objects[i]]\n",
    "        for income_cyberlink in income_cyberlinks:\n",
    "            obj = objects.index(income_cyberlink[0])\n",
    "            sumswd[i] += damping_factor * swd[obj]\n",
    "        outcome_cyberlinks = [outcome_cyberlinks for outcome_cyberlinks in [list(x.keys())[0] for x in cyberlinks] if outcome_cyberlinks[0] == objects[i]]\n",
    "        for outcome_cyberlink in outcome_cyberlinks:\n",
    "            obj = objects.index(outcome_cyberlink[1])\n",
    "            sumswd[i] += (1 - damping_factor) * swd[obj]\n",
    "    for i in range(len(entropy)):\n",
    "        if swd[i] == 0:\n",
    "            continue\n",
    "        income_cyberlinks = [income_cyberlink for income_cyberlink in [list(x.keys())[0] for x in cyberlinks] if income_cyberlink[1] == objects[i]]\n",
    "        for income_cyberlink in income_cyberlinks:\n",
    "            obj = objects.index(income_cyberlink[0])\n",
    "            if sumswd[obj] == 0:\n",
    "                continue\n",
    "            entropy[i] += abs(-swd[i] / sumswd[obj] * math.log2(swd[i]/sumswd[obj]))\n",
    "        outcome_cyberlinks = [outcome_cyberlinks for outcome_cyberlinks in [list(x.keys())[0] for x in cyberlinks] if outcome_cyberlinks[0] == objects[i]]\n",
    "        for outcome_cyberlink in outcome_cyberlinks:\n",
    "            obj = objects.index(outcome_cyberlink[1])\n",
    "            if sumswd[obj] == 0:\n",
    "                continue\n",
    "            entropy[i] += abs(-swd[i] / sumswd[obj] * math.log2(swd[i] / sumswd[obj]))\n",
    "    res = list(zip(objects, entropy))\n",
    "    res.sort(reverse=True, key=lambda x: x[1])\n",
    "    return res"
   ]
  },
  {
   "cell_type": "code",
   "execution_count": 4,
   "metadata": {},
   "outputs": [
    {
     "data": {
      "text/plain": [
       "[(6, 17.516289145081835),\n",
       " (2, 17.25863153266834),\n",
       " (14, 15.216844887355874),\n",
       " (3, 14.053600707437878),\n",
       " (19, 9.941154476005343),\n",
       " (8, 3.702235581737394),\n",
       " (10, 3.636335487718992),\n",
       " (12, 3.207173722192134),\n",
       " (11, 2.598279162340869),\n",
       " (7, 2.4909937454722426),\n",
       " (21, 1.048738318825225),\n",
       " (5, 1.0480304076460332),\n",
       " (15, 1.0452166294092318),\n",
       " (13, 0.9745569392632268),\n",
       " (17, 0.9429488462719593),\n",
       " (4, 0.9252119293765573),\n",
       " (18, 0.8972974707273671),\n",
       " (16, 0.8169213102506709),\n",
       " (20, 0.7851494605294047),\n",
       " (1, 0.768414547218145),\n",
       " (9, 0.64142134411275)]"
      ]
     },
     "execution_count": 4,
     "metadata": {},
     "output_type": "execute_result"
    }
   ],
   "source": [
    "cyber_entropy(cyberlinks)"
   ]
  },
  {
   "cell_type": "code",
   "execution_count": null,
   "metadata": {},
   "outputs": [],
   "source": []
  }
 ],
 "metadata": {
  "kernelspec": {
   "display_name": "Python 3",
   "language": "python",
   "name": "python3"
  },
  "language_info": {
   "codemirror_mode": {
    "name": "ipython",
    "version": 3
   },
   "file_extension": ".py",
   "mimetype": "text/x-python",
   "name": "python",
   "nbconvert_exporter": "python",
   "pygments_lexer": "ipython3",
   "version": "3.8.0"
  }
 },
 "nbformat": 4,
 "nbformat_minor": 2
}

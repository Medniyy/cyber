{
 "cells": [
  {
   "cell_type": "code",
   "execution_count": null,
   "metadata": {},
   "outputs": [],
   "source": [
    "def mint_resource_token(\n",
    "                        hydrogen: int, \n",
    "                        investmint_time: int, \n",
    "                        base_vesting_resource: int = 10_000_000_000, \n",
    "                        base_vesting_time: int = 86400,\n",
    "                        max_vesting_time: int = 604800):\n",
    "    # hydrogen is a fuel token for resources minting\n",
    "    # investment time is a time token locked\n",
    "    if investmint_time > max_vesting_time:\n",
    "        print('Impossible to lock tokens longer than max vesting time')\n",
    "        return 0\n",
    "    return int(hydrogen / base_vesting_resource) * (investmint_time / base_vesting_time)"
   ]
  },
  {
   "cell_type": "code",
   "execution_count": null,
   "metadata": {},
   "outputs": [],
   "source": [
    "mint_resource_token(100_000_000_000, 86400)"
   ]
  }
 ],
 "metadata": {
  "kernelspec": {
   "display_name": "Python 3",
   "language": "python",
   "name": "python3"
  },
  "language_info": {
   "codemirror_mode": {
    "name": "ipython",
    "version": 3
   },
   "file_extension": ".py",
   "mimetype": "text/x-python",
   "name": "python",
   "nbconvert_exporter": "python",
   "pygments_lexer": "ipython3",
   "version": "3.8.0"
  }
 },
 "nbformat": 4,
 "nbformat_minor": 2
}
